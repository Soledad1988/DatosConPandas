{
 "cells": [
  {
   "cell_type": "markdown",
   "id": "facf003a-4591-4a34-87e2-2fea6f7a3fb9",
   "metadata": {},
   "source": [
    "## 1 - Importar Pandas"
   ]
  },
  {
   "cell_type": "code",
   "execution_count": 7,
   "id": "7005d79b-2e79-4bd6-b7cf-fc49d250bfaa",
   "metadata": {},
   "outputs": [],
   "source": [
    "import pandas as pd"
   ]
  },
  {
   "cell_type": "markdown",
   "id": "9314d40c-8a11-45eb-8b88-8dba740dedbf",
   "metadata": {},
   "source": [
    "## 2 - Cargar datos"
   ]
  },
  {
   "cell_type": "code",
   "execution_count": 31,
   "id": "125ef345-a5ac-4bf1-bb07-84a635d44acf",
   "metadata": {},
   "outputs": [],
   "source": [
    "df1 = pd.read_csv(\"Datos_Ventas_Tienda.csv\")\n"
   ]
  },
  {
   "cell_type": "code",
   "execution_count": 33,
   "id": "0666f852-a416-4a0d-bb58-fde523345bbc",
   "metadata": {},
   "outputs": [
    {
     "data": {
      "text/html": [
       "<div>\n",
       "<style scoped>\n",
       "    .dataframe tbody tr th:only-of-type {\n",
       "        vertical-align: middle;\n",
       "    }\n",
       "\n",
       "    .dataframe tbody tr th {\n",
       "        vertical-align: top;\n",
       "    }\n",
       "\n",
       "    .dataframe thead th {\n",
       "        text-align: right;\n",
       "    }\n",
       "</style>\n",
       "<table border=\"1\" class=\"dataframe\">\n",
       "  <thead>\n",
       "    <tr style=\"text-align: right;\">\n",
       "      <th></th>\n",
       "      <th>Fecha</th>\n",
       "      <th>Producto</th>\n",
       "      <th>Cantidad</th>\n",
       "      <th>Precio Unitario</th>\n",
       "      <th>Total Venta</th>\n",
       "    </tr>\n",
       "  </thead>\n",
       "  <tbody>\n",
       "    <tr>\n",
       "      <th>0</th>\n",
       "      <td>1/17/2023</td>\n",
       "      <td>Electrónic</td>\n",
       "      <td>7</td>\n",
       "      <td>200</td>\n",
       "      <td>1400</td>\n",
       "    </tr>\n",
       "    <tr>\n",
       "      <th>1</th>\n",
       "      <td>9/1/2023</td>\n",
       "      <td>Electrónic</td>\n",
       "      <td>8</td>\n",
       "      <td>200</td>\n",
       "      <td>1600</td>\n",
       "    </tr>\n",
       "    <tr>\n",
       "      <th>2</th>\n",
       "      <td>7/29/2023</td>\n",
       "      <td>Juguetes</td>\n",
       "      <td>3</td>\n",
       "      <td>30</td>\n",
       "      <td>90</td>\n",
       "    </tr>\n",
       "    <tr>\n",
       "      <th>3</th>\n",
       "      <td>10/4/2023</td>\n",
       "      <td>Alimentos</td>\n",
       "      <td>4</td>\n",
       "      <td>10</td>\n",
       "      <td>40</td>\n",
       "    </tr>\n",
       "    <tr>\n",
       "      <th>4</th>\n",
       "      <td>2/28/2023</td>\n",
       "      <td>Electrónic</td>\n",
       "      <td>6</td>\n",
       "      <td>200</td>\n",
       "      <td>1200</td>\n",
       "    </tr>\n",
       "    <tr>\n",
       "      <th>5</th>\n",
       "      <td>3/11/2023</td>\n",
       "      <td>Ropa</td>\n",
       "      <td>9</td>\n",
       "      <td>50</td>\n",
       "      <td>450</td>\n",
       "    </tr>\n",
       "    <tr>\n",
       "      <th>6</th>\n",
       "      <td>11/3/2023</td>\n",
       "      <td>Juguetes</td>\n",
       "      <td>4</td>\n",
       "      <td>30</td>\n",
       "      <td>120</td>\n",
       "    </tr>\n",
       "    <tr>\n",
       "      <th>7</th>\n",
       "      <td>11/8/2023</td>\n",
       "      <td>Ropa</td>\n",
       "      <td>9</td>\n",
       "      <td>50</td>\n",
       "      <td>450</td>\n",
       "    </tr>\n",
       "    <tr>\n",
       "      <th>8</th>\n",
       "      <td>3/22/2023</td>\n",
       "      <td>Ropa</td>\n",
       "      <td>10</td>\n",
       "      <td>50</td>\n",
       "      <td>500</td>\n",
       "    </tr>\n",
       "    <tr>\n",
       "      <th>9</th>\n",
       "      <td>9/29/2023</td>\n",
       "      <td>Ropa</td>\n",
       "      <td>1</td>\n",
       "      <td>50</td>\n",
       "      <td>50</td>\n",
       "    </tr>\n",
       "  </tbody>\n",
       "</table>\n",
       "</div>"
      ],
      "text/plain": [
       "       Fecha    Producto  Cantidad  Precio Unitario  Total Venta\n",
       "0  1/17/2023  Electrónic         7              200         1400\n",
       "1   9/1/2023  Electrónic         8              200         1600\n",
       "2  7/29/2023    Juguetes         3               30           90\n",
       "3  10/4/2023   Alimentos         4               10           40\n",
       "4  2/28/2023  Electrónic         6              200         1200\n",
       "5  3/11/2023        Ropa         9               50          450\n",
       "6  11/3/2023    Juguetes         4               30          120\n",
       "7  11/8/2023        Ropa         9               50          450\n",
       "8  3/22/2023        Ropa        10               50          500\n",
       "9  9/29/2023        Ropa         1               50           50"
      ]
     },
     "execution_count": 33,
     "metadata": {},
     "output_type": "execute_result"
    }
   ],
   "source": [
    "df1.head(10)"
   ]
  },
  {
   "cell_type": "code",
   "execution_count": 35,
   "id": "1aa57f52-5640-440f-83ef-04c1ad8880b4",
   "metadata": {},
   "outputs": [],
   "source": [
    "df2 = pd.read_csv(\"Datos_Ventas_Tienda2.csv\")"
   ]
  },
  {
   "cell_type": "code",
   "execution_count": 37,
   "id": "f6191001-7738-41be-a909-8dbf44f2a12e",
   "metadata": {},
   "outputs": [
    {
     "data": {
      "text/html": [
       "<div>\n",
       "<style scoped>\n",
       "    .dataframe tbody tr th:only-of-type {\n",
       "        vertical-align: middle;\n",
       "    }\n",
       "\n",
       "    .dataframe tbody tr th {\n",
       "        vertical-align: top;\n",
       "    }\n",
       "\n",
       "    .dataframe thead th {\n",
       "        text-align: right;\n",
       "    }\n",
       "</style>\n",
       "<table border=\"1\" class=\"dataframe\">\n",
       "  <thead>\n",
       "    <tr style=\"text-align: right;\">\n",
       "      <th></th>\n",
       "      <th>Fecha</th>\n",
       "      <th>Producto</th>\n",
       "      <th>Cantidad</th>\n",
       "      <th>Precio Unitario</th>\n",
       "      <th>Total Venta</th>\n",
       "    </tr>\n",
       "  </thead>\n",
       "  <tbody>\n",
       "    <tr>\n",
       "      <th>0</th>\n",
       "      <td>8/25/2023</td>\n",
       "      <td>Electrónic</td>\n",
       "      <td>5</td>\n",
       "      <td>200</td>\n",
       "      <td>1000</td>\n",
       "    </tr>\n",
       "    <tr>\n",
       "      <th>1</th>\n",
       "      <td>8/14/2023</td>\n",
       "      <td>Alimentos</td>\n",
       "      <td>9</td>\n",
       "      <td>10</td>\n",
       "      <td>90</td>\n",
       "    </tr>\n",
       "    <tr>\n",
       "      <th>2</th>\n",
       "      <td>8/30/2023</td>\n",
       "      <td>Ropa</td>\n",
       "      <td>6</td>\n",
       "      <td>50</td>\n",
       "      <td>300</td>\n",
       "    </tr>\n",
       "    <tr>\n",
       "      <th>3</th>\n",
       "      <td>11/9/2023</td>\n",
       "      <td>Alimentos</td>\n",
       "      <td>2</td>\n",
       "      <td>10</td>\n",
       "      <td>20</td>\n",
       "    </tr>\n",
       "    <tr>\n",
       "      <th>4</th>\n",
       "      <td>10/26/2023</td>\n",
       "      <td>Ropa</td>\n",
       "      <td>8</td>\n",
       "      <td>50</td>\n",
       "      <td>400</td>\n",
       "    </tr>\n",
       "    <tr>\n",
       "      <th>5</th>\n",
       "      <td>12/1/2023</td>\n",
       "      <td>Juguetes</td>\n",
       "      <td>2</td>\n",
       "      <td>30</td>\n",
       "      <td>60</td>\n",
       "    </tr>\n",
       "    <tr>\n",
       "      <th>6</th>\n",
       "      <td>5/16/2023</td>\n",
       "      <td>Electrónic</td>\n",
       "      <td>4</td>\n",
       "      <td>200</td>\n",
       "      <td>800</td>\n",
       "    </tr>\n",
       "    <tr>\n",
       "      <th>7</th>\n",
       "      <td>2/9/2023</td>\n",
       "      <td>Libros</td>\n",
       "      <td>1</td>\n",
       "      <td>20</td>\n",
       "      <td>20</td>\n",
       "    </tr>\n",
       "    <tr>\n",
       "      <th>8</th>\n",
       "      <td>1/9/2023</td>\n",
       "      <td>Electrónic</td>\n",
       "      <td>2</td>\n",
       "      <td>200</td>\n",
       "      <td>400</td>\n",
       "    </tr>\n",
       "    <tr>\n",
       "      <th>9</th>\n",
       "      <td>5/3/2023</td>\n",
       "      <td>Electrónic</td>\n",
       "      <td>6</td>\n",
       "      <td>200</td>\n",
       "      <td>1200</td>\n",
       "    </tr>\n",
       "  </tbody>\n",
       "</table>\n",
       "</div>"
      ],
      "text/plain": [
       "        Fecha    Producto  Cantidad  Precio Unitario  Total Venta\n",
       "0   8/25/2023  Electrónic         5              200         1000\n",
       "1   8/14/2023   Alimentos         9               10           90\n",
       "2   8/30/2023        Ropa         6               50          300\n",
       "3   11/9/2023   Alimentos         2               10           20\n",
       "4  10/26/2023        Ropa         8               50          400\n",
       "5   12/1/2023    Juguetes         2               30           60\n",
       "6   5/16/2023  Electrónic         4              200          800\n",
       "7    2/9/2023      Libros         1               20           20\n",
       "8    1/9/2023  Electrónic         2              200          400\n",
       "9    5/3/2023  Electrónic         6              200         1200"
      ]
     },
     "execution_count": 37,
     "metadata": {},
     "output_type": "execute_result"
    }
   ],
   "source": [
    "df2.head(10)"
   ]
  },
  {
   "cell_type": "code",
   "execution_count": null,
   "id": "bd04b96f-5e67-47e2-aeb9-fbdf4621ad22",
   "metadata": {},
   "outputs": [],
   "source": [
    "# Fusion de datos"
   ]
  },
  {
   "cell_type": "code",
   "execution_count": 96,
   "id": "a9994474-541d-43bb-982f-b6842114239e",
   "metadata": {},
   "outputs": [],
   "source": [
    "df_combinado = pd.concat([df1, df2], ignore_index = True)"
   ]
  },
  {
   "cell_type": "code",
   "execution_count": 98,
   "id": "f68c18e2-609f-4bc4-9c11-1784c9fb6c00",
   "metadata": {},
   "outputs": [
    {
     "data": {
      "text/html": [
       "<div>\n",
       "<style scoped>\n",
       "    .dataframe tbody tr th:only-of-type {\n",
       "        vertical-align: middle;\n",
       "    }\n",
       "\n",
       "    .dataframe tbody tr th {\n",
       "        vertical-align: top;\n",
       "    }\n",
       "\n",
       "    .dataframe thead th {\n",
       "        text-align: right;\n",
       "    }\n",
       "</style>\n",
       "<table border=\"1\" class=\"dataframe\">\n",
       "  <thead>\n",
       "    <tr style=\"text-align: right;\">\n",
       "      <th></th>\n",
       "      <th>Fecha</th>\n",
       "      <th>Producto</th>\n",
       "      <th>Cantidad</th>\n",
       "      <th>Precio Unitario</th>\n",
       "      <th>Total Venta</th>\n",
       "    </tr>\n",
       "  </thead>\n",
       "  <tbody>\n",
       "    <tr>\n",
       "      <th>0</th>\n",
       "      <td>1/17/2023</td>\n",
       "      <td>Electrónic</td>\n",
       "      <td>7</td>\n",
       "      <td>200</td>\n",
       "      <td>1400</td>\n",
       "    </tr>\n",
       "    <tr>\n",
       "      <th>1</th>\n",
       "      <td>9/1/2023</td>\n",
       "      <td>Electrónic</td>\n",
       "      <td>8</td>\n",
       "      <td>200</td>\n",
       "      <td>1600</td>\n",
       "    </tr>\n",
       "    <tr>\n",
       "      <th>2</th>\n",
       "      <td>7/29/2023</td>\n",
       "      <td>Juguetes</td>\n",
       "      <td>3</td>\n",
       "      <td>30</td>\n",
       "      <td>90</td>\n",
       "    </tr>\n",
       "    <tr>\n",
       "      <th>3</th>\n",
       "      <td>10/4/2023</td>\n",
       "      <td>Alimentos</td>\n",
       "      <td>4</td>\n",
       "      <td>10</td>\n",
       "      <td>40</td>\n",
       "    </tr>\n",
       "    <tr>\n",
       "      <th>4</th>\n",
       "      <td>2/28/2023</td>\n",
       "      <td>Electrónic</td>\n",
       "      <td>6</td>\n",
       "      <td>200</td>\n",
       "      <td>1200</td>\n",
       "    </tr>\n",
       "    <tr>\n",
       "      <th>...</th>\n",
       "      <td>...</td>\n",
       "      <td>...</td>\n",
       "      <td>...</td>\n",
       "      <td>...</td>\n",
       "      <td>...</td>\n",
       "    </tr>\n",
       "    <tr>\n",
       "      <th>1045</th>\n",
       "      <td>9/11/2023</td>\n",
       "      <td>Juguetes</td>\n",
       "      <td>10</td>\n",
       "      <td>30</td>\n",
       "      <td>300</td>\n",
       "    </tr>\n",
       "    <tr>\n",
       "      <th>1046</th>\n",
       "      <td>1/3/2023</td>\n",
       "      <td>Juguetes</td>\n",
       "      <td>10</td>\n",
       "      <td>30</td>\n",
       "      <td>300</td>\n",
       "    </tr>\n",
       "    <tr>\n",
       "      <th>1047</th>\n",
       "      <td>11/7/2023</td>\n",
       "      <td>Alimentos</td>\n",
       "      <td>3</td>\n",
       "      <td>10</td>\n",
       "      <td>30</td>\n",
       "    </tr>\n",
       "    <tr>\n",
       "      <th>1048</th>\n",
       "      <td>8/20/2023</td>\n",
       "      <td>Electrónic</td>\n",
       "      <td>6</td>\n",
       "      <td>200</td>\n",
       "      <td>1200</td>\n",
       "    </tr>\n",
       "    <tr>\n",
       "      <th>1049</th>\n",
       "      <td>7/21/2023</td>\n",
       "      <td>Juguetes</td>\n",
       "      <td>3</td>\n",
       "      <td>30</td>\n",
       "      <td>90</td>\n",
       "    </tr>\n",
       "  </tbody>\n",
       "</table>\n",
       "<p>1050 rows × 5 columns</p>\n",
       "</div>"
      ],
      "text/plain": [
       "          Fecha    Producto  Cantidad  Precio Unitario  Total Venta\n",
       "0     1/17/2023  Electrónic         7              200         1400\n",
       "1      9/1/2023  Electrónic         8              200         1600\n",
       "2     7/29/2023    Juguetes         3               30           90\n",
       "3     10/4/2023   Alimentos         4               10           40\n",
       "4     2/28/2023  Electrónic         6              200         1200\n",
       "...         ...         ...       ...              ...          ...\n",
       "1045  9/11/2023    Juguetes        10               30          300\n",
       "1046   1/3/2023    Juguetes        10               30          300\n",
       "1047  11/7/2023   Alimentos         3               10           30\n",
       "1048  8/20/2023  Electrónic         6              200         1200\n",
       "1049  7/21/2023    Juguetes         3               30           90\n",
       "\n",
       "[1050 rows x 5 columns]"
      ]
     },
     "execution_count": 98,
     "metadata": {},
     "output_type": "execute_result"
    }
   ],
   "source": [
    "df_combinado"
   ]
  },
  {
   "cell_type": "code",
   "execution_count": null,
   "id": "546a238e-aba2-429b-95cd-d541b859ac84",
   "metadata": {},
   "outputs": [],
   "source": []
  },
  {
   "cell_type": "markdown",
   "id": "735d5a98-6aae-4c55-b802-15824e136350",
   "metadata": {},
   "source": [
    "## 3 - Exploración Inicial"
   ]
  },
  {
   "cell_type": "code",
   "execution_count": 43,
   "id": "a3d3c7b1-9166-4038-995a-1f56db3b0719",
   "metadata": {},
   "outputs": [
    {
     "data": {
      "text/html": [
       "<div>\n",
       "<style scoped>\n",
       "    .dataframe tbody tr th:only-of-type {\n",
       "        vertical-align: middle;\n",
       "    }\n",
       "\n",
       "    .dataframe tbody tr th {\n",
       "        vertical-align: top;\n",
       "    }\n",
       "\n",
       "    .dataframe thead th {\n",
       "        text-align: right;\n",
       "    }\n",
       "</style>\n",
       "<table border=\"1\" class=\"dataframe\">\n",
       "  <thead>\n",
       "    <tr style=\"text-align: right;\">\n",
       "      <th></th>\n",
       "      <th>Fecha</th>\n",
       "      <th>Producto</th>\n",
       "      <th>Cantidad</th>\n",
       "      <th>Precio Unitario</th>\n",
       "      <th>Total Venta</th>\n",
       "    </tr>\n",
       "  </thead>\n",
       "  <tbody>\n",
       "    <tr>\n",
       "      <th>0</th>\n",
       "      <td>1/17/2023</td>\n",
       "      <td>Electrónic</td>\n",
       "      <td>7</td>\n",
       "      <td>200</td>\n",
       "      <td>1400</td>\n",
       "    </tr>\n",
       "    <tr>\n",
       "      <th>1</th>\n",
       "      <td>9/1/2023</td>\n",
       "      <td>Electrónic</td>\n",
       "      <td>8</td>\n",
       "      <td>200</td>\n",
       "      <td>1600</td>\n",
       "    </tr>\n",
       "    <tr>\n",
       "      <th>2</th>\n",
       "      <td>7/29/2023</td>\n",
       "      <td>Juguetes</td>\n",
       "      <td>3</td>\n",
       "      <td>30</td>\n",
       "      <td>90</td>\n",
       "    </tr>\n",
       "    <tr>\n",
       "      <th>3</th>\n",
       "      <td>10/4/2023</td>\n",
       "      <td>Alimentos</td>\n",
       "      <td>4</td>\n",
       "      <td>10</td>\n",
       "      <td>40</td>\n",
       "    </tr>\n",
       "    <tr>\n",
       "      <th>4</th>\n",
       "      <td>2/28/2023</td>\n",
       "      <td>Electrónic</td>\n",
       "      <td>6</td>\n",
       "      <td>200</td>\n",
       "      <td>1200</td>\n",
       "    </tr>\n",
       "  </tbody>\n",
       "</table>\n",
       "</div>"
      ],
      "text/plain": [
       "       Fecha    Producto  Cantidad  Precio Unitario  Total Venta\n",
       "0  1/17/2023  Electrónic         7              200         1400\n",
       "1   9/1/2023  Electrónic         8              200         1600\n",
       "2  7/29/2023    Juguetes         3               30           90\n",
       "3  10/4/2023   Alimentos         4               10           40\n",
       "4  2/28/2023  Electrónic         6              200         1200"
      ]
     },
     "execution_count": 43,
     "metadata": {},
     "output_type": "execute_result"
    }
   ],
   "source": [
    "df_combinado.head()"
   ]
  },
  {
   "cell_type": "code",
   "execution_count": 45,
   "id": "81d9df1d-2a8a-4840-a0c1-12e971422af7",
   "metadata": {},
   "outputs": [
    {
     "data": {
      "text/plain": [
       "(1050, 5)"
      ]
     },
     "execution_count": 45,
     "metadata": {},
     "output_type": "execute_result"
    }
   ],
   "source": [
    "df_combinado.shape"
   ]
  },
  {
   "cell_type": "code",
   "execution_count": 47,
   "id": "f90d5f93-4cf9-4120-bb23-cfbddef72f87",
   "metadata": {},
   "outputs": [
    {
     "data": {
      "text/plain": [
       "Index(['Fecha', 'Producto', 'Cantidad', 'Precio Unitario', 'Total Venta'], dtype='object')"
      ]
     },
     "execution_count": 47,
     "metadata": {},
     "output_type": "execute_result"
    }
   ],
   "source": [
    "df_combinado.columns"
   ]
  },
  {
   "cell_type": "code",
   "execution_count": null,
   "id": "cd78d346-a9f3-4a80-810f-3f672c09cf85",
   "metadata": {},
   "outputs": [],
   "source": [
    "# Cambiar tipo de datos en Fecha to_datatime(df_combinado[\"Fecha\"])"
   ]
  },
  {
   "cell_type": "code",
   "execution_count": 104,
   "id": "a6888fa3-b352-4eff-b965-a30cf3a53bb7",
   "metadata": {},
   "outputs": [],
   "source": [
    "df_combinado[\"Fecha\"] = pd.to_datetime(df_combinado[\"Fecha\"])"
   ]
  },
  {
   "cell_type": "code",
   "execution_count": 106,
   "id": "6822e51f-3a0d-4fad-9144-0a0e9a0f529f",
   "metadata": {},
   "outputs": [
    {
     "data": {
      "text/html": [
       "<div>\n",
       "<style scoped>\n",
       "    .dataframe tbody tr th:only-of-type {\n",
       "        vertical-align: middle;\n",
       "    }\n",
       "\n",
       "    .dataframe tbody tr th {\n",
       "        vertical-align: top;\n",
       "    }\n",
       "\n",
       "    .dataframe thead th {\n",
       "        text-align: right;\n",
       "    }\n",
       "</style>\n",
       "<table border=\"1\" class=\"dataframe\">\n",
       "  <thead>\n",
       "    <tr style=\"text-align: right;\">\n",
       "      <th></th>\n",
       "      <th>Fecha</th>\n",
       "      <th>Producto</th>\n",
       "      <th>Cantidad</th>\n",
       "      <th>Precio Unitario</th>\n",
       "      <th>Total Venta</th>\n",
       "    </tr>\n",
       "  </thead>\n",
       "  <tbody>\n",
       "    <tr>\n",
       "      <th>0</th>\n",
       "      <td>2023-01-17</td>\n",
       "      <td>Electrónic</td>\n",
       "      <td>7</td>\n",
       "      <td>200</td>\n",
       "      <td>1400</td>\n",
       "    </tr>\n",
       "    <tr>\n",
       "      <th>1</th>\n",
       "      <td>2023-09-01</td>\n",
       "      <td>Electrónic</td>\n",
       "      <td>8</td>\n",
       "      <td>200</td>\n",
       "      <td>1600</td>\n",
       "    </tr>\n",
       "    <tr>\n",
       "      <th>2</th>\n",
       "      <td>2023-07-29</td>\n",
       "      <td>Juguetes</td>\n",
       "      <td>3</td>\n",
       "      <td>30</td>\n",
       "      <td>90</td>\n",
       "    </tr>\n",
       "    <tr>\n",
       "      <th>3</th>\n",
       "      <td>2023-10-04</td>\n",
       "      <td>Alimentos</td>\n",
       "      <td>4</td>\n",
       "      <td>10</td>\n",
       "      <td>40</td>\n",
       "    </tr>\n",
       "    <tr>\n",
       "      <th>4</th>\n",
       "      <td>2023-02-28</td>\n",
       "      <td>Electrónic</td>\n",
       "      <td>6</td>\n",
       "      <td>200</td>\n",
       "      <td>1200</td>\n",
       "    </tr>\n",
       "    <tr>\n",
       "      <th>...</th>\n",
       "      <td>...</td>\n",
       "      <td>...</td>\n",
       "      <td>...</td>\n",
       "      <td>...</td>\n",
       "      <td>...</td>\n",
       "    </tr>\n",
       "    <tr>\n",
       "      <th>1045</th>\n",
       "      <td>2023-09-11</td>\n",
       "      <td>Juguetes</td>\n",
       "      <td>10</td>\n",
       "      <td>30</td>\n",
       "      <td>300</td>\n",
       "    </tr>\n",
       "    <tr>\n",
       "      <th>1046</th>\n",
       "      <td>2023-01-03</td>\n",
       "      <td>Juguetes</td>\n",
       "      <td>10</td>\n",
       "      <td>30</td>\n",
       "      <td>300</td>\n",
       "    </tr>\n",
       "    <tr>\n",
       "      <th>1047</th>\n",
       "      <td>2023-11-07</td>\n",
       "      <td>Alimentos</td>\n",
       "      <td>3</td>\n",
       "      <td>10</td>\n",
       "      <td>30</td>\n",
       "    </tr>\n",
       "    <tr>\n",
       "      <th>1048</th>\n",
       "      <td>2023-08-20</td>\n",
       "      <td>Electrónic</td>\n",
       "      <td>6</td>\n",
       "      <td>200</td>\n",
       "      <td>1200</td>\n",
       "    </tr>\n",
       "    <tr>\n",
       "      <th>1049</th>\n",
       "      <td>2023-07-21</td>\n",
       "      <td>Juguetes</td>\n",
       "      <td>3</td>\n",
       "      <td>30</td>\n",
       "      <td>90</td>\n",
       "    </tr>\n",
       "  </tbody>\n",
       "</table>\n",
       "<p>1050 rows × 5 columns</p>\n",
       "</div>"
      ],
      "text/plain": [
       "          Fecha    Producto  Cantidad  Precio Unitario  Total Venta\n",
       "0    2023-01-17  Electrónic         7              200         1400\n",
       "1    2023-09-01  Electrónic         8              200         1600\n",
       "2    2023-07-29    Juguetes         3               30           90\n",
       "3    2023-10-04   Alimentos         4               10           40\n",
       "4    2023-02-28  Electrónic         6              200         1200\n",
       "...         ...         ...       ...              ...          ...\n",
       "1045 2023-09-11    Juguetes        10               30          300\n",
       "1046 2023-01-03    Juguetes        10               30          300\n",
       "1047 2023-11-07   Alimentos         3               10           30\n",
       "1048 2023-08-20  Electrónic         6              200         1200\n",
       "1049 2023-07-21    Juguetes         3               30           90\n",
       "\n",
       "[1050 rows x 5 columns]"
      ]
     },
     "execution_count": 106,
     "metadata": {},
     "output_type": "execute_result"
    }
   ],
   "source": [
    "df_combinado"
   ]
  },
  {
   "cell_type": "code",
   "execution_count": 108,
   "id": "da091155-2752-4847-87b1-fb50b03ae1fc",
   "metadata": {},
   "outputs": [
    {
     "name": "stdout",
     "output_type": "stream",
     "text": [
      "<class 'pandas.core.frame.DataFrame'>\n",
      "RangeIndex: 1050 entries, 0 to 1049\n",
      "Data columns (total 5 columns):\n",
      " #   Column           Non-Null Count  Dtype         \n",
      "---  ------           --------------  -----         \n",
      " 0   Fecha            1050 non-null   datetime64[ns]\n",
      " 1   Producto         1050 non-null   object        \n",
      " 2   Cantidad         1050 non-null   int64         \n",
      " 3   Precio Unitario  1050 non-null   int64         \n",
      " 4   Total Venta      1050 non-null   int64         \n",
      "dtypes: datetime64[ns](1), int64(3), object(1)\n",
      "memory usage: 41.1+ KB\n"
     ]
    }
   ],
   "source": [
    "df_combinado.info()"
   ]
  },
  {
   "cell_type": "markdown",
   "id": "7876d582-787d-4232-b254-812cdcf497d7",
   "metadata": {},
   "source": [
    "## 4 - Limpieza de Datos"
   ]
  },
  {
   "cell_type": "code",
   "execution_count": 63,
   "id": "8c48984e-8032-41ed-8353-0166b331fae9",
   "metadata": {},
   "outputs": [
    {
     "data": {
      "text/plain": [
       "Fecha              0\n",
       "Producto           0\n",
       "Cantidad           0\n",
       "Precio Unitario    0\n",
       "Total Venta        0\n",
       "dtype: int64"
      ]
     },
     "execution_count": 63,
     "metadata": {},
     "output_type": "execute_result"
    }
   ],
   "source": [
    "df_combinado.isnull().sum()"
   ]
  },
  {
   "cell_type": "code",
   "execution_count": null,
   "id": "3ae4768e-e887-4748-8ea5-e190a46150d4",
   "metadata": {},
   "outputs": [],
   "source": [
    "# Cual es el producto mas vendido"
   ]
  },
  {
   "cell_type": "code",
   "execution_count": 114,
   "id": "ff210b3e-51cd-46b7-b527-a5c3c69976d3",
   "metadata": {},
   "outputs": [],
   "source": [
    "productos_mas_vendido = df_combinado.groupby('Producto')['Cantidad'].sum()\n"
   ]
  },
  {
   "cell_type": "code",
   "execution_count": 116,
   "id": "f70d87ca-4a48-479c-8fd1-14bc42101754",
   "metadata": {},
   "outputs": [
    {
     "data": {
      "text/plain": [
       "Producto\n",
       "Alimentos     1262\n",
       "Electrónic    1220\n",
       "Ropa          1128\n",
       "Juguetes      1113\n",
       "Libros        1042\n",
       "Name: Cantidad, dtype: int64"
      ]
     },
     "execution_count": 116,
     "metadata": {},
     "output_type": "execute_result"
    }
   ],
   "source": [
    "productos_mas_vendido.sort_values(ascending = False)"
   ]
  },
  {
   "cell_type": "code",
   "execution_count": null,
   "id": "18ba6a39-44f1-47a6-b715-1a6af5c10ea9",
   "metadata": {},
   "outputs": [],
   "source": [
    "# Cual es el mes con mas ventas"
   ]
  },
  {
   "cell_type": "code",
   "execution_count": 120,
   "id": "8da153c8-26cc-4b32-9fc3-bf55c87e3cf7",
   "metadata": {},
   "outputs": [
    {
     "data": {
      "text/html": [
       "<div>\n",
       "<style scoped>\n",
       "    .dataframe tbody tr th:only-of-type {\n",
       "        vertical-align: middle;\n",
       "    }\n",
       "\n",
       "    .dataframe tbody tr th {\n",
       "        vertical-align: top;\n",
       "    }\n",
       "\n",
       "    .dataframe thead th {\n",
       "        text-align: right;\n",
       "    }\n",
       "</style>\n",
       "<table border=\"1\" class=\"dataframe\">\n",
       "  <thead>\n",
       "    <tr style=\"text-align: right;\">\n",
       "      <th></th>\n",
       "      <th>Fecha</th>\n",
       "      <th>Producto</th>\n",
       "      <th>Cantidad</th>\n",
       "      <th>Precio Unitario</th>\n",
       "      <th>Total Venta</th>\n",
       "      <th>Meses</th>\n",
       "    </tr>\n",
       "  </thead>\n",
       "  <tbody>\n",
       "    <tr>\n",
       "      <th>0</th>\n",
       "      <td>2023-01-17</td>\n",
       "      <td>Electrónic</td>\n",
       "      <td>7</td>\n",
       "      <td>200</td>\n",
       "      <td>1400</td>\n",
       "      <td>1</td>\n",
       "    </tr>\n",
       "    <tr>\n",
       "      <th>1</th>\n",
       "      <td>2023-09-01</td>\n",
       "      <td>Electrónic</td>\n",
       "      <td>8</td>\n",
       "      <td>200</td>\n",
       "      <td>1600</td>\n",
       "      <td>9</td>\n",
       "    </tr>\n",
       "    <tr>\n",
       "      <th>2</th>\n",
       "      <td>2023-07-29</td>\n",
       "      <td>Juguetes</td>\n",
       "      <td>3</td>\n",
       "      <td>30</td>\n",
       "      <td>90</td>\n",
       "      <td>7</td>\n",
       "    </tr>\n",
       "    <tr>\n",
       "      <th>3</th>\n",
       "      <td>2023-10-04</td>\n",
       "      <td>Alimentos</td>\n",
       "      <td>4</td>\n",
       "      <td>10</td>\n",
       "      <td>40</td>\n",
       "      <td>10</td>\n",
       "    </tr>\n",
       "    <tr>\n",
       "      <th>4</th>\n",
       "      <td>2023-02-28</td>\n",
       "      <td>Electrónic</td>\n",
       "      <td>6</td>\n",
       "      <td>200</td>\n",
       "      <td>1200</td>\n",
       "      <td>2</td>\n",
       "    </tr>\n",
       "    <tr>\n",
       "      <th>...</th>\n",
       "      <td>...</td>\n",
       "      <td>...</td>\n",
       "      <td>...</td>\n",
       "      <td>...</td>\n",
       "      <td>...</td>\n",
       "      <td>...</td>\n",
       "    </tr>\n",
       "    <tr>\n",
       "      <th>1045</th>\n",
       "      <td>2023-09-11</td>\n",
       "      <td>Juguetes</td>\n",
       "      <td>10</td>\n",
       "      <td>30</td>\n",
       "      <td>300</td>\n",
       "      <td>9</td>\n",
       "    </tr>\n",
       "    <tr>\n",
       "      <th>1046</th>\n",
       "      <td>2023-01-03</td>\n",
       "      <td>Juguetes</td>\n",
       "      <td>10</td>\n",
       "      <td>30</td>\n",
       "      <td>300</td>\n",
       "      <td>1</td>\n",
       "    </tr>\n",
       "    <tr>\n",
       "      <th>1047</th>\n",
       "      <td>2023-11-07</td>\n",
       "      <td>Alimentos</td>\n",
       "      <td>3</td>\n",
       "      <td>10</td>\n",
       "      <td>30</td>\n",
       "      <td>11</td>\n",
       "    </tr>\n",
       "    <tr>\n",
       "      <th>1048</th>\n",
       "      <td>2023-08-20</td>\n",
       "      <td>Electrónic</td>\n",
       "      <td>6</td>\n",
       "      <td>200</td>\n",
       "      <td>1200</td>\n",
       "      <td>8</td>\n",
       "    </tr>\n",
       "    <tr>\n",
       "      <th>1049</th>\n",
       "      <td>2023-07-21</td>\n",
       "      <td>Juguetes</td>\n",
       "      <td>3</td>\n",
       "      <td>30</td>\n",
       "      <td>90</td>\n",
       "      <td>7</td>\n",
       "    </tr>\n",
       "  </tbody>\n",
       "</table>\n",
       "<p>1050 rows × 6 columns</p>\n",
       "</div>"
      ],
      "text/plain": [
       "          Fecha    Producto  Cantidad  Precio Unitario  Total Venta  Meses\n",
       "0    2023-01-17  Electrónic         7              200         1400      1\n",
       "1    2023-09-01  Electrónic         8              200         1600      9\n",
       "2    2023-07-29    Juguetes         3               30           90      7\n",
       "3    2023-10-04   Alimentos         4               10           40     10\n",
       "4    2023-02-28  Electrónic         6              200         1200      2\n",
       "...         ...         ...       ...              ...          ...    ...\n",
       "1045 2023-09-11    Juguetes        10               30          300      9\n",
       "1046 2023-01-03    Juguetes        10               30          300      1\n",
       "1047 2023-11-07   Alimentos         3               10           30     11\n",
       "1048 2023-08-20  Electrónic         6              200         1200      8\n",
       "1049 2023-07-21    Juguetes         3               30           90      7\n",
       "\n",
       "[1050 rows x 6 columns]"
      ]
     },
     "execution_count": 120,
     "metadata": {},
     "output_type": "execute_result"
    }
   ],
   "source": [
    "meses = []\n",
    "for f in df_combinado['Fecha']:\n",
    "    meses.append(f.month)\n",
    "df_combinado['Meses'] = meses\n",
    "df_combinado"
   ]
  },
  {
   "cell_type": "code",
   "execution_count": 128,
   "id": "2754a2ed-451b-4d9b-92f2-568a16b0d365",
   "metadata": {},
   "outputs": [
    {
     "data": {
      "text/plain": [
       "Meses\n",
       "8    45090\n",
       "Name: Total Venta, dtype: int64"
      ]
     },
     "execution_count": 128,
     "metadata": {},
     "output_type": "execute_result"
    }
   ],
   "source": [
    "ventas_por_mes = df_combinado.groupby('Meses')['Total Venta'].sum().sort_values(ascending = False)\n",
    "ventas_por_mes.head(1)"
   ]
  },
  {
   "cell_type": "code",
   "execution_count": null,
   "id": "31a060ef-dc63-4928-92ee-eeb4f0e28dfb",
   "metadata": {},
   "outputs": [],
   "source": [
    "# Ventas por categoria"
   ]
  },
  {
   "cell_type": "code",
   "execution_count": 134,
   "id": "a7bbfc51-7e4e-46f3-8af0-ab210d7d2daa",
   "metadata": {},
   "outputs": [
    {
     "data": {
      "text/plain": [
       "Producto\n",
       "Electrónic    244000\n",
       "Ropa           56400\n",
       "Juguetes       33390\n",
       "Libros         20840\n",
       "Alimentos      12620\n",
       "Name: Total Venta, dtype: int64"
      ]
     },
     "execution_count": 134,
     "metadata": {},
     "output_type": "execute_result"
    }
   ],
   "source": [
    "ventas_por_categoria = df_combinado.groupby('Producto')['Total Venta'].sum().sort_values(ascending = False)\n",
    "ventas_por_categoria"
   ]
  },
  {
   "cell_type": "code",
   "execution_count": null,
   "id": "2d47d530-7f94-4002-bad5-3e58732a69ff",
   "metadata": {},
   "outputs": [],
   "source": [
    "# Guardar el archivo como CSV df_combinado.to_csv()"
   ]
  },
  {
   "cell_type": "code",
   "execution_count": null,
   "id": "42b06cdd-fcb5-4089-b6b6-82f1f99ca7ff",
   "metadata": {},
   "outputs": [],
   "source": []
  }
 ],
 "metadata": {
  "kernelspec": {
   "display_name": "Python 3 (ipykernel)",
   "language": "python",
   "name": "python3"
  },
  "language_info": {
   "codemirror_mode": {
    "name": "ipython",
    "version": 3
   },
   "file_extension": ".py",
   "mimetype": "text/x-python",
   "name": "python",
   "nbconvert_exporter": "python",
   "pygments_lexer": "ipython3",
   "version": "3.12.7"
  }
 },
 "nbformat": 4,
 "nbformat_minor": 5
}
