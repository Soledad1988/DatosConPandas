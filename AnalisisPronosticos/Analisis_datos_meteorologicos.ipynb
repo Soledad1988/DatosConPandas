{
 "cells": [
  {
   "cell_type": "markdown",
   "id": "facf003a-4591-4a34-87e2-2fea6f7a3fb9",
   "metadata": {},
   "source": [
    "## 1 - Importar Pandas"
   ]
  },
  {
   "cell_type": "code",
   "execution_count": 1,
   "id": "7005d79b-2e79-4bd6-b7cf-fc49d250bfaa",
   "metadata": {},
   "outputs": [],
   "source": [
    "import pandas as pd\n",
    "import numpy as np"
   ]
  },
  {
   "cell_type": "markdown",
   "id": "9314d40c-8a11-45eb-8b88-8dba740dedbf",
   "metadata": {},
   "source": [
    "## 2 - Cargar datos"
   ]
  },
  {
   "cell_type": "code",
   "execution_count": 5,
   "id": "125ef345-a5ac-4bf1-bb07-84a635d44acf",
   "metadata": {},
   "outputs": [],
   "source": [
    "df = pd.read_csv(\"datos_meteorologicos.csv\")\n"
   ]
  },
  {
   "cell_type": "code",
   "execution_count": 82,
   "id": "0666f852-a416-4a0d-bb58-fde523345bbc",
   "metadata": {},
   "outputs": [
    {
     "data": {
      "text/html": [
       "<div>\n",
       "<style scoped>\n",
       "    .dataframe tbody tr th:only-of-type {\n",
       "        vertical-align: middle;\n",
       "    }\n",
       "\n",
       "    .dataframe tbody tr th {\n",
       "        vertical-align: top;\n",
       "    }\n",
       "\n",
       "    .dataframe thead th {\n",
       "        text-align: right;\n",
       "    }\n",
       "</style>\n",
       "<table border=\"1\" class=\"dataframe\">\n",
       "  <thead>\n",
       "    <tr style=\"text-align: right;\">\n",
       "      <th></th>\n",
       "      <th>Fecha</th>\n",
       "      <th>Temperatura</th>\n",
       "      <th>Precipitación</th>\n",
       "      <th>Humedad</th>\n",
       "    </tr>\n",
       "  </thead>\n",
       "  <tbody>\n",
       "    <tr>\n",
       "      <th>0</th>\n",
       "      <td>2010-01-01</td>\n",
       "      <td>17.440675</td>\n",
       "      <td>10.957482</td>\n",
       "      <td>52.384637</td>\n",
       "    </tr>\n",
       "    <tr>\n",
       "      <th>1</th>\n",
       "      <td>2010-01-02</td>\n",
       "      <td>25.759468</td>\n",
       "      <td>5.315628</td>\n",
       "      <td>30.633530</td>\n",
       "    </tr>\n",
       "    <tr>\n",
       "      <th>2</th>\n",
       "      <td>2010-01-03</td>\n",
       "      <td>20.138169</td>\n",
       "      <td>15.317706</td>\n",
       "      <td>41.496715</td>\n",
       "    </tr>\n",
       "    <tr>\n",
       "      <th>3</th>\n",
       "      <td>2010-01-04</td>\n",
       "      <td>17.244159</td>\n",
       "      <td>13.151008</td>\n",
       "      <td>90.684704</td>\n",
       "    </tr>\n",
       "    <tr>\n",
       "      <th>4</th>\n",
       "      <td>2010-01-05</td>\n",
       "      <td>11.182740</td>\n",
       "      <td>16.413667</td>\n",
       "      <td>22.116422</td>\n",
       "    </tr>\n",
       "  </tbody>\n",
       "</table>\n",
       "</div>"
      ],
      "text/plain": [
       "       Fecha  Temperatura  Precipitación    Humedad\n",
       "0 2010-01-01    17.440675      10.957482  52.384637\n",
       "1 2010-01-02    25.759468       5.315628  30.633530\n",
       "2 2010-01-03    20.138169      15.317706  41.496715\n",
       "3 2010-01-04    17.244159      13.151008  90.684704\n",
       "4 2010-01-05    11.182740      16.413667  22.116422"
      ]
     },
     "execution_count": 82,
     "metadata": {},
     "output_type": "execute_result"
    }
   ],
   "source": [
    "df.head()"
   ]
  },
  {
   "cell_type": "code",
   "execution_count": null,
   "id": "546a238e-aba2-429b-95cd-d541b859ac84",
   "metadata": {},
   "outputs": [],
   "source": []
  },
  {
   "cell_type": "markdown",
   "id": "735d5a98-6aae-4c55-b802-15824e136350",
   "metadata": {},
   "source": [
    "## 3 - Exploración Inicial"
   ]
  },
  {
   "cell_type": "code",
   "execution_count": 9,
   "id": "81d9df1d-2a8a-4840-a0c1-12e971422af7",
   "metadata": {},
   "outputs": [
    {
     "data": {
      "text/plain": [
       "(5110, 4)"
      ]
     },
     "execution_count": 9,
     "metadata": {},
     "output_type": "execute_result"
    }
   ],
   "source": [
    "df.shape"
   ]
  },
  {
   "cell_type": "code",
   "execution_count": 11,
   "id": "f90d5f93-4cf9-4120-bb23-cfbddef72f87",
   "metadata": {},
   "outputs": [
    {
     "data": {
      "text/plain": [
       "Index(['Fecha', 'Temperatura', 'Precipitación', 'Humedad'], dtype='object')"
      ]
     },
     "execution_count": 11,
     "metadata": {},
     "output_type": "execute_result"
    }
   ],
   "source": [
    "df.columns"
   ]
  },
  {
   "cell_type": "code",
   "execution_count": 26,
   "id": "a6888fa3-b352-4eff-b965-a30cf3a53bb7",
   "metadata": {},
   "outputs": [],
   "source": [
    "df[\"Fecha\"] = pd.to_datetime(df[\"Fecha\"], format = \"%d/%m/%Y\")"
   ]
  },
  {
   "cell_type": "code",
   "execution_count": 28,
   "id": "6822e51f-3a0d-4fad-9144-0a0e9a0f529f",
   "metadata": {},
   "outputs": [
    {
     "data": {
      "text/html": [
       "<div>\n",
       "<style scoped>\n",
       "    .dataframe tbody tr th:only-of-type {\n",
       "        vertical-align: middle;\n",
       "    }\n",
       "\n",
       "    .dataframe tbody tr th {\n",
       "        vertical-align: top;\n",
       "    }\n",
       "\n",
       "    .dataframe thead th {\n",
       "        text-align: right;\n",
       "    }\n",
       "</style>\n",
       "<table border=\"1\" class=\"dataframe\">\n",
       "  <thead>\n",
       "    <tr style=\"text-align: right;\">\n",
       "      <th></th>\n",
       "      <th>Fecha</th>\n",
       "      <th>Temperatura</th>\n",
       "      <th>Precipitación</th>\n",
       "      <th>Humedad</th>\n",
       "    </tr>\n",
       "  </thead>\n",
       "  <tbody>\n",
       "    <tr>\n",
       "      <th>0</th>\n",
       "      <td>2010-01-01</td>\n",
       "      <td>17.440675</td>\n",
       "      <td>10.957482</td>\n",
       "      <td>52.384637</td>\n",
       "    </tr>\n",
       "    <tr>\n",
       "      <th>1</th>\n",
       "      <td>2010-01-02</td>\n",
       "      <td>25.759468</td>\n",
       "      <td>5.315628</td>\n",
       "      <td>30.633530</td>\n",
       "    </tr>\n",
       "    <tr>\n",
       "      <th>2</th>\n",
       "      <td>2010-01-03</td>\n",
       "      <td>20.138169</td>\n",
       "      <td>15.317706</td>\n",
       "      <td>41.496715</td>\n",
       "    </tr>\n",
       "    <tr>\n",
       "      <th>3</th>\n",
       "      <td>2010-01-04</td>\n",
       "      <td>17.244159</td>\n",
       "      <td>13.151008</td>\n",
       "      <td>90.684704</td>\n",
       "    </tr>\n",
       "    <tr>\n",
       "      <th>4</th>\n",
       "      <td>2010-01-05</td>\n",
       "      <td>11.182740</td>\n",
       "      <td>16.413667</td>\n",
       "      <td>22.116422</td>\n",
       "    </tr>\n",
       "    <tr>\n",
       "      <th>...</th>\n",
       "      <td>...</td>\n",
       "      <td>...</td>\n",
       "      <td>...</td>\n",
       "      <td>...</td>\n",
       "    </tr>\n",
       "    <tr>\n",
       "      <th>5105</th>\n",
       "      <td>2023-12-24</td>\n",
       "      <td>-9.554692</td>\n",
       "      <td>12.700998</td>\n",
       "      <td>50.094533</td>\n",
       "    </tr>\n",
       "    <tr>\n",
       "      <th>5106</th>\n",
       "      <td>2023-12-25</td>\n",
       "      <td>2.837831</td>\n",
       "      <td>5.475686</td>\n",
       "      <td>92.456057</td>\n",
       "    </tr>\n",
       "    <tr>\n",
       "      <th>5107</th>\n",
       "      <td>2023-12-26</td>\n",
       "      <td>29.873597</td>\n",
       "      <td>4.615012</td>\n",
       "      <td>18.362847</td>\n",
       "    </tr>\n",
       "    <tr>\n",
       "      <th>5108</th>\n",
       "      <td>2023-12-27</td>\n",
       "      <td>NaN</td>\n",
       "      <td>NaN</td>\n",
       "      <td>NaN</td>\n",
       "    </tr>\n",
       "    <tr>\n",
       "      <th>5109</th>\n",
       "      <td>2023-12-28</td>\n",
       "      <td>37.308043</td>\n",
       "      <td>7.330510</td>\n",
       "      <td>50.646211</td>\n",
       "    </tr>\n",
       "  </tbody>\n",
       "</table>\n",
       "<p>5110 rows × 4 columns</p>\n",
       "</div>"
      ],
      "text/plain": [
       "          Fecha  Temperatura  Precipitación    Humedad\n",
       "0    2010-01-01    17.440675      10.957482  52.384637\n",
       "1    2010-01-02    25.759468       5.315628  30.633530\n",
       "2    2010-01-03    20.138169      15.317706  41.496715\n",
       "3    2010-01-04    17.244159      13.151008  90.684704\n",
       "4    2010-01-05    11.182740      16.413667  22.116422\n",
       "...         ...          ...            ...        ...\n",
       "5105 2023-12-24    -9.554692      12.700998  50.094533\n",
       "5106 2023-12-25     2.837831       5.475686  92.456057\n",
       "5107 2023-12-26    29.873597       4.615012  18.362847\n",
       "5108 2023-12-27          NaN            NaN        NaN\n",
       "5109 2023-12-28    37.308043       7.330510  50.646211\n",
       "\n",
       "[5110 rows x 4 columns]"
      ]
     },
     "execution_count": 28,
     "metadata": {},
     "output_type": "execute_result"
    }
   ],
   "source": [
    "df"
   ]
  },
  {
   "cell_type": "code",
   "execution_count": 30,
   "id": "da091155-2752-4847-87b1-fb50b03ae1fc",
   "metadata": {},
   "outputs": [
    {
     "name": "stdout",
     "output_type": "stream",
     "text": [
      "<class 'pandas.core.frame.DataFrame'>\n",
      "RangeIndex: 5110 entries, 0 to 5109\n",
      "Data columns (total 4 columns):\n",
      " #   Column         Non-Null Count  Dtype         \n",
      "---  ------         --------------  -----         \n",
      " 0   Fecha          5110 non-null   datetime64[ns]\n",
      " 1   Temperatura    4855 non-null   float64       \n",
      " 2   Precipitación  4855 non-null   float64       \n",
      " 3   Humedad        4855 non-null   float64       \n",
      "dtypes: datetime64[ns](1), float64(3)\n",
      "memory usage: 159.8 KB\n"
     ]
    }
   ],
   "source": [
    "df.info()"
   ]
  },
  {
   "cell_type": "code",
   "execution_count": 38,
   "id": "2798c1ea-4436-4536-a3d7-cd3f25d4ef87",
   "metadata": {},
   "outputs": [
    {
     "data": {
      "text/plain": [
       "array(['2010-01-01T00:00:00.000000000', '2010-01-02T00:00:00.000000000',\n",
       "       '2010-01-03T00:00:00.000000000', ...,\n",
       "       '2023-12-26T00:00:00.000000000', '2023-12-27T00:00:00.000000000',\n",
       "       '2023-12-28T00:00:00.000000000'], dtype='datetime64[ns]')"
      ]
     },
     "execution_count": 38,
     "metadata": {},
     "output_type": "execute_result"
    }
   ],
   "source": [
    "#Convertir las columnas del dataFrame en arrays de Numpy\n",
    "array_fecha = df[\"Fecha\"].values\n",
    "array_fecha"
   ]
  },
  {
   "cell_type": "code",
   "execution_count": 42,
   "id": "a078f80a-a746-456b-9a46-98f97693c4bf",
   "metadata": {},
   "outputs": [
    {
     "data": {
      "text/plain": [
       "array([10.957482  ,  5.31562765, 15.31770609, ...,  4.61501177,\n",
       "               nan,  7.33051023])"
      ]
     },
     "execution_count": 42,
     "metadata": {},
     "output_type": "execute_result"
    }
   ],
   "source": [
    "array_precipitaciones = df[\"Precipitación\"].values\n",
    "array_precipitaciones"
   ]
  },
  {
   "cell_type": "code",
   "execution_count": 44,
   "id": "f88aec96-94c0-45fd-a883-e2bcec69153b",
   "metadata": {},
   "outputs": [
    {
     "data": {
      "text/plain": [
       "array([17.4406752 , 25.75946832, 20.1381688 , ..., 29.87359717,\n",
       "               nan, 37.30804318])"
      ]
     },
     "execution_count": 44,
     "metadata": {},
     "output_type": "execute_result"
    }
   ],
   "source": [
    "array_temperatura = df[\"Temperatura\"].values\n",
    "array_temperatura"
   ]
  },
  {
   "cell_type": "code",
   "execution_count": 46,
   "id": "5b59952a-cb61-49fc-901d-6a1867cf073b",
   "metadata": {},
   "outputs": [
    {
     "data": {
      "text/plain": [
       "array([52.38463749, 30.63352983, 41.49671458, ..., 18.36284738,\n",
       "               nan, 50.64621058])"
      ]
     },
     "execution_count": 46,
     "metadata": {},
     "output_type": "execute_result"
    }
   ],
   "source": [
    "array_humedad = df[\"Humedad\"].values\n",
    "array_humedad"
   ]
  },
  {
   "cell_type": "markdown",
   "id": "da8bda6e-3126-44a3-b2f0-4247919c76c8",
   "metadata": {},
   "source": [
    "### Array Temperatura"
   ]
  },
  {
   "cell_type": "code",
   "execution_count": 53,
   "id": "1c11aa67-ba19-4b31-b6f7-092cecdc4d79",
   "metadata": {},
   "outputs": [
    {
     "data": {
      "text/plain": [
       "array([False, False, False, ..., False,  True, False])"
      ]
     },
     "execution_count": 53,
     "metadata": {},
     "output_type": "execute_result"
    }
   ],
   "source": [
    "# Identificar datos faltantes en los array\n",
    "np.isnan(array_temperatura)"
   ]
  },
  {
   "cell_type": "code",
   "execution_count": 65,
   "id": "81aaa408-f1b4-4f85-b437-524e08301912",
   "metadata": {},
   "outputs": [
    {
     "data": {
      "text/plain": [
       "array([17.4406752 , 25.75946832, 20.1381688 , ..., 29.87359717,\n",
       "       14.88929572, 37.30804318])"
      ]
     },
     "execution_count": 65,
     "metadata": {},
     "output_type": "execute_result"
    }
   ],
   "source": [
    "# Reemplazar datos faltantes por el promedio de los valores\n",
    "promedio_temperatura = np.nanmean(array_temperatura)\n",
    "array_temperatura_con_promedio = np.where(np.isnan(array_temperatura), promedio_temperatura, array_temperatura)\n",
    "array_temperatura_con_promedio"
   ]
  },
  {
   "cell_type": "markdown",
   "id": "d743ea89-a124-4ade-a1fb-532b1a61b404",
   "metadata": {},
   "source": [
    "### Array Humedad"
   ]
  },
  {
   "cell_type": "code",
   "execution_count": 92,
   "id": "bd0bc4af-233e-4474-b1c6-7a190dbb1e39",
   "metadata": {},
   "outputs": [
    {
     "data": {
      "text/plain": [
       "array([False, False, False, ..., False, False, False])"
      ]
     },
     "execution_count": 92,
     "metadata": {},
     "output_type": "execute_result"
    }
   ],
   "source": [
    "# Identificar datos faltantes en los array\n",
    "np.isnan(array_humedad)"
   ]
  },
  {
   "cell_type": "code",
   "execution_count": 94,
   "id": "b75c10e5-85a0-40dd-aedc-60bc9555e98d",
   "metadata": {},
   "outputs": [
    {
     "data": {
      "text/plain": [
       "array([52.38463749, 30.63352983, 41.49671458, ..., 18.36284738,\n",
       "       54.3590608 , 50.64621058])"
      ]
     },
     "execution_count": 94,
     "metadata": {},
     "output_type": "execute_result"
    }
   ],
   "source": [
    "# Reemplazar datos faltantes por el promedio de los valores\n",
    "promedio_humedad = np.nanmean(array_humedad)\n",
    "array_humedad_con_promedio = np.where(np.isnan(array_humedad), promedio_humedad, array_humedad)\n",
    "array_humedad_con_promedio"
   ]
  },
  {
   "cell_type": "markdown",
   "id": "edc3a8b1-8203-4e21-8d14-47e05936c4ed",
   "metadata": {},
   "source": [
    "### Array Precipitaciones"
   ]
  },
  {
   "cell_type": "code",
   "execution_count": 70,
   "id": "3a469e30-4c24-4abe-a5a9-2c2c1919a1f9",
   "metadata": {},
   "outputs": [
    {
     "data": {
      "text/plain": [
       "array([False, False, False, ..., False,  True, False])"
      ]
     },
     "execution_count": 70,
     "metadata": {},
     "output_type": "execute_result"
    }
   ],
   "source": [
    "# Identificar datos faltantes en los array\n",
    "np.isnan(array_precipitaciones)"
   ]
  },
  {
   "cell_type": "code",
   "execution_count": 72,
   "id": "14ff6d43-1774-44bd-a2d6-4667f505c90d",
   "metadata": {},
   "outputs": [
    {
     "data": {
      "text/plain": [
       "array([10.957482  ,  5.31562765, 15.31770609, ...,  4.61501177,\n",
       "        9.9016036 ,  7.33051023])"
      ]
     },
     "execution_count": 72,
     "metadata": {},
     "output_type": "execute_result"
    }
   ],
   "source": [
    "# Reemplazar datos faltantes por el promedio de los valores\n",
    "promedio_precipitaciones = np.nanmean(array_precipitaciones)\n",
    "array_precipitaciones_con_promedio = np.where(np.isnan(array_precipitaciones), promedio_precipitaciones, array_precipitaciones)\n",
    "array_precipitaciones_con_promedio"
   ]
  },
  {
   "cell_type": "markdown",
   "id": "7876d582-787d-4232-b254-812cdcf497d7",
   "metadata": {},
   "source": [
    "## 4 - Analisis Básico\n"
   ]
  },
  {
   "cell_type": "code",
   "execution_count": 74,
   "id": "1e473549-3a53-4aaf-8194-679ba9cceda9",
   "metadata": {},
   "outputs": [
    {
     "data": {
      "text/plain": [
       "14.889295723531713"
      ]
     },
     "execution_count": 74,
     "metadata": {},
     "output_type": "execute_result"
    }
   ],
   "source": [
    "# Temperatura promedio\n",
    "array_temperatura_con_promedio.mean()"
   ]
  },
  {
   "cell_type": "code",
   "execution_count": 78,
   "id": "babd3144-1900-4dc4-ba4f-aed1b37ef25a",
   "metadata": {},
   "outputs": [
    {
     "data": {
      "text/plain": [
       "50597.19438939993"
      ]
     },
     "execution_count": 78,
     "metadata": {},
     "output_type": "execute_result"
    }
   ],
   "source": [
    "# Total Precipitaciones\n",
    "array_precipitaciones_con_promedio.sum()"
   ]
  },
  {
   "cell_type": "code",
   "execution_count": 80,
   "id": "cf4c3b0c-2d2d-496c-b548-3c7bea85c435",
   "metadata": {},
   "outputs": [
    {
     "data": {
      "text/plain": [
       "99.99658156071747"
      ]
     },
     "execution_count": 80,
     "metadata": {},
     "output_type": "execute_result"
    }
   ],
   "source": [
    "# Maxima hummedad registrada\n",
    "array_humedad_con_promedio.max()"
   ]
  },
  {
   "cell_type": "code",
   "execution_count": null,
   "id": "02ce49d3-8143-4e0d-8cec-3d43d7b20857",
   "metadata": {},
   "outputs": [],
   "source": [
    "# Fecha mas Calurosa"
   ]
  },
  {
   "cell_type": "code",
   "execution_count": null,
   "id": "09638467-1763-4f8b-9481-c1e2c17dc475",
   "metadata": {},
   "outputs": [],
   "source": [
    "# Fecha mas Fria"
   ]
  }
 ],
 "metadata": {
  "kernelspec": {
   "display_name": "Python 3 (ipykernel)",
   "language": "python",
   "name": "python3"
  },
  "language_info": {
   "codemirror_mode": {
    "name": "ipython",
    "version": 3
   },
   "file_extension": ".py",
   "mimetype": "text/x-python",
   "name": "python",
   "nbconvert_exporter": "python",
   "pygments_lexer": "ipython3",
   "version": "3.12.7"
  }
 },
 "nbformat": 4,
 "nbformat_minor": 5
}
